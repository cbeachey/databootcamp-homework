{
 "cells": [
  {
   "cell_type": "markdown",
   "metadata": {},
   "source": [
    "### Note\n",
    "* Instructions have been included for each segment. You do not have to follow them exactly, but they are included to help you think through the steps."
   ]
  },
  {
   "cell_type": "code",
   "execution_count": 2,
   "metadata": {
    "scrolled": true
   },
   "outputs": [
    {
     "data": {
      "text/html": [
       "<div>\n",
       "<style scoped>\n",
       "    .dataframe tbody tr th:only-of-type {\n",
       "        vertical-align: middle;\n",
       "    }\n",
       "\n",
       "    .dataframe tbody tr th {\n",
       "        vertical-align: top;\n",
       "    }\n",
       "\n",
       "    .dataframe thead th {\n",
       "        text-align: right;\n",
       "    }\n",
       "</style>\n",
       "<table border=\"1\" class=\"dataframe\">\n",
       "  <thead>\n",
       "    <tr style=\"text-align: right;\">\n",
       "      <th></th>\n",
       "      <th>Purchase ID</th>\n",
       "      <th>SN</th>\n",
       "      <th>Age</th>\n",
       "      <th>Gender</th>\n",
       "      <th>Item ID</th>\n",
       "      <th>Item Name</th>\n",
       "      <th>Price</th>\n",
       "    </tr>\n",
       "  </thead>\n",
       "  <tbody>\n",
       "    <tr>\n",
       "      <th>0</th>\n",
       "      <td>0</td>\n",
       "      <td>Lisim78</td>\n",
       "      <td>20</td>\n",
       "      <td>Male</td>\n",
       "      <td>108</td>\n",
       "      <td>Extraction, Quickblade Of Trembling Hands</td>\n",
       "      <td>3.53</td>\n",
       "    </tr>\n",
       "    <tr>\n",
       "      <th>1</th>\n",
       "      <td>1</td>\n",
       "      <td>Lisovynya38</td>\n",
       "      <td>40</td>\n",
       "      <td>Male</td>\n",
       "      <td>143</td>\n",
       "      <td>Frenzied Scimitar</td>\n",
       "      <td>1.56</td>\n",
       "    </tr>\n",
       "    <tr>\n",
       "      <th>2</th>\n",
       "      <td>2</td>\n",
       "      <td>Ithergue48</td>\n",
       "      <td>24</td>\n",
       "      <td>Male</td>\n",
       "      <td>92</td>\n",
       "      <td>Final Critic</td>\n",
       "      <td>4.88</td>\n",
       "    </tr>\n",
       "    <tr>\n",
       "      <th>3</th>\n",
       "      <td>3</td>\n",
       "      <td>Chamassasya86</td>\n",
       "      <td>24</td>\n",
       "      <td>Male</td>\n",
       "      <td>100</td>\n",
       "      <td>Blindscythe</td>\n",
       "      <td>3.27</td>\n",
       "    </tr>\n",
       "    <tr>\n",
       "      <th>4</th>\n",
       "      <td>4</td>\n",
       "      <td>Iskosia90</td>\n",
       "      <td>23</td>\n",
       "      <td>Male</td>\n",
       "      <td>131</td>\n",
       "      <td>Fury</td>\n",
       "      <td>1.44</td>\n",
       "    </tr>\n",
       "  </tbody>\n",
       "</table>\n",
       "</div>"
      ],
      "text/plain": [
       "   Purchase ID             SN  Age Gender  Item ID  \\\n",
       "0            0        Lisim78   20   Male      108   \n",
       "1            1    Lisovynya38   40   Male      143   \n",
       "2            2     Ithergue48   24   Male       92   \n",
       "3            3  Chamassasya86   24   Male      100   \n",
       "4            4      Iskosia90   23   Male      131   \n",
       "\n",
       "                                   Item Name  Price  \n",
       "0  Extraction, Quickblade Of Trembling Hands   3.53  \n",
       "1                          Frenzied Scimitar   1.56  \n",
       "2                               Final Critic   4.88  \n",
       "3                                Blindscythe   3.27  \n",
       "4                                       Fury   1.44  "
      ]
     },
     "execution_count": 2,
     "metadata": {},
     "output_type": "execute_result"
    }
   ],
   "source": [
    "# Dependencies and Setup\n",
    "import pandas as pd\n",
    "import numpy as py\n",
    "\n",
    "# File to Load (Remember to Change These)\n",
    "file_to_load = \"Resources/purchase_data.csv\"\n",
    "\n",
    "# Read Purchasing File and store into Pandas data frame\n",
    "purchase_data = pd.read_csv(file_to_load)\n",
    "purchase_data.head()"
   ]
  },
  {
   "cell_type": "markdown",
   "metadata": {},
   "source": [
    "## Player Count"
   ]
  },
  {
   "cell_type": "markdown",
   "metadata": {},
   "source": [
    "* Display the total number of players\n"
   ]
  },
  {
   "cell_type": "code",
   "execution_count": 3,
   "metadata": {},
   "outputs": [
    {
     "data": {
      "text/html": [
       "<div>\n",
       "<style scoped>\n",
       "    .dataframe tbody tr th:only-of-type {\n",
       "        vertical-align: middle;\n",
       "    }\n",
       "\n",
       "    .dataframe tbody tr th {\n",
       "        vertical-align: top;\n",
       "    }\n",
       "\n",
       "    .dataframe thead th {\n",
       "        text-align: right;\n",
       "    }\n",
       "</style>\n",
       "<table border=\"1\" class=\"dataframe\">\n",
       "  <thead>\n",
       "    <tr style=\"text-align: right;\">\n",
       "      <th></th>\n",
       "      <th>Total Players</th>\n",
       "    </tr>\n",
       "  </thead>\n",
       "  <tbody>\n",
       "    <tr>\n",
       "      <th>0</th>\n",
       "      <td>576</td>\n",
       "    </tr>\n",
       "  </tbody>\n",
       "</table>\n",
       "</div>"
      ],
      "text/plain": [
       "   Total Players\n",
       "0            576"
      ]
     },
     "execution_count": 3,
     "metadata": {},
     "output_type": "execute_result"
    }
   ],
   "source": [
    "#Calculate the total number of unique players by \"SN\"\n",
    "total_players = purchase_data['SN'].nunique()\n",
    "\n",
    "#Create a 'Total Players' Data Frame\n",
    "total_players_df = pd.DataFrame({'Total Players' : [total_players]})\n",
    "total_players_df"
   ]
  },
  {
   "cell_type": "markdown",
   "metadata": {},
   "source": [
    "## Purchasing Analysis (Total)"
   ]
  },
  {
   "cell_type": "markdown",
   "metadata": {},
   "source": [
    "* Run basic calculations to obtain number of unique items, average price, etc.\n",
    "\n",
    "\n",
    "* Create a summary data frame to hold the results\n",
    "\n",
    "\n",
    "* Optional: give the displayed data cleaner formatting\n",
    "\n",
    "\n",
    "* Display the summary data frame\n"
   ]
  },
  {
   "cell_type": "code",
   "execution_count": 4,
   "metadata": {},
   "outputs": [],
   "source": [
    "#Create variable for items, average price, number of purchases, and total revenue. Calculate count, mean, and sum.\n",
    "count_of_items = purchase_data['Item ID'].nunique()\n",
    "average_price = purchase_data['Price'].mean()\n",
    "number_purchases = purchase_data['Purchase ID'].count()\n",
    "total_revenue = purchase_data['Price'].sum()"
   ]
  },
  {
   "cell_type": "code",
   "execution_count": 5,
   "metadata": {
    "scrolled": true
   },
   "outputs": [
    {
     "data": {
      "text/html": [
       "<style  type=\"text/css\" >\n",
       "</style><table id=\"T_7e91341b_14c2_11eb_8457_34cff602a07f\" ><thead>    <tr>        <th class=\"blank level0\" ></th>        <th class=\"col_heading level0 col0\" >Number of Unique Items</th>        <th class=\"col_heading level0 col1\" >Average Price</th>        <th class=\"col_heading level0 col2\" >Number of Purchases</th>        <th class=\"col_heading level0 col3\" >Total Revenue</th>    </tr></thead><tbody>\n",
       "                <tr>\n",
       "                        <th id=\"T_7e91341b_14c2_11eb_8457_34cff602a07flevel0_row0\" class=\"row_heading level0 row0\" >0</th>\n",
       "                        <td id=\"T_7e91341b_14c2_11eb_8457_34cff602a07frow0_col0\" class=\"data row0 col0\" >179</td>\n",
       "                        <td id=\"T_7e91341b_14c2_11eb_8457_34cff602a07frow0_col1\" class=\"data row0 col1\" >$3.05</td>\n",
       "                        <td id=\"T_7e91341b_14c2_11eb_8457_34cff602a07frow0_col2\" class=\"data row0 col2\" >780</td>\n",
       "                        <td id=\"T_7e91341b_14c2_11eb_8457_34cff602a07frow0_col3\" class=\"data row0 col3\" >$2,379.77</td>\n",
       "            </tr>\n",
       "    </tbody></table>"
      ],
      "text/plain": [
       "<pandas.io.formats.style.Styler at 0x1b2d5a208e0>"
      ]
     },
     "execution_count": 5,
     "metadata": {},
     "output_type": "execute_result"
    }
   ],
   "source": [
    "#Display the calculations in a Summary data frame.\n",
    "summary_df = pd.DataFrame({'Number of Unique Items' : [count_of_items],\n",
    "                           'Average Price' : [average_price],\n",
    "                           'Number of Purchases' : [number_purchases],\n",
    "                           'Total Revenue' : [total_revenue]      \n",
    "})\n",
    "\n",
    "#Format the summary table to show the Average Price and Total Revenue as currency and round two numbers after the decimal place.\n",
    "summary_df.style.format({'Average Price' : '${:,.2f}',\n",
    "                        'Total Revenue' : '${:,.2f}'\n",
    "                        \n",
    "})"
   ]
  },
  {
   "cell_type": "markdown",
   "metadata": {},
   "source": [
    "## Gender Demographics"
   ]
  },
  {
   "cell_type": "markdown",
   "metadata": {},
   "source": [
    "* Percentage and Count of Male Players\n",
    "\n",
    "\n",
    "* Percentage and Count of Female Players\n",
    "\n",
    "\n",
    "* Percentage and Count of Other / Non-Disclosed\n",
    "\n",
    "\n"
   ]
  },
  {
   "cell_type": "code",
   "execution_count": 6,
   "metadata": {},
   "outputs": [
    {
     "data": {
      "text/html": [
       "<style  type=\"text/css\" >\n",
       "</style><table id=\"T_7f3c8712_14c2_11eb_a182_34cff602a07f\" ><thead>    <tr>        <th class=\"blank level0\" ></th>        <th class=\"col_heading level0 col0\" >Total Count</th>        <th class=\"col_heading level0 col1\" >Percentage of Players</th>    </tr>    <tr>        <th class=\"index_name level0\" >Gender</th>        <th class=\"blank\" ></th>        <th class=\"blank\" ></th>    </tr></thead><tbody>\n",
       "                <tr>\n",
       "                        <th id=\"T_7f3c8712_14c2_11eb_a182_34cff602a07flevel0_row0\" class=\"row_heading level0 row0\" >Male</th>\n",
       "                        <td id=\"T_7f3c8712_14c2_11eb_a182_34cff602a07frow0_col0\" class=\"data row0 col0\" >484</td>\n",
       "                        <td id=\"T_7f3c8712_14c2_11eb_a182_34cff602a07frow0_col1\" class=\"data row0 col1\" >84.03%</td>\n",
       "            </tr>\n",
       "            <tr>\n",
       "                        <th id=\"T_7f3c8712_14c2_11eb_a182_34cff602a07flevel0_row1\" class=\"row_heading level0 row1\" >Female</th>\n",
       "                        <td id=\"T_7f3c8712_14c2_11eb_a182_34cff602a07frow1_col0\" class=\"data row1 col0\" >81</td>\n",
       "                        <td id=\"T_7f3c8712_14c2_11eb_a182_34cff602a07frow1_col1\" class=\"data row1 col1\" >14.06%</td>\n",
       "            </tr>\n",
       "            <tr>\n",
       "                        <th id=\"T_7f3c8712_14c2_11eb_a182_34cff602a07flevel0_row2\" class=\"row_heading level0 row2\" >Other / Non-Disclosed</th>\n",
       "                        <td id=\"T_7f3c8712_14c2_11eb_a182_34cff602a07frow2_col0\" class=\"data row2 col0\" >11</td>\n",
       "                        <td id=\"T_7f3c8712_14c2_11eb_a182_34cff602a07frow2_col1\" class=\"data row2 col1\" >1.91%</td>\n",
       "            </tr>\n",
       "    </tbody></table>"
      ],
      "text/plain": [
       "<pandas.io.formats.style.Styler at 0x1b2d59afd30>"
      ]
     },
     "execution_count": 6,
     "metadata": {},
     "output_type": "execute_result"
    }
   ],
   "source": [
    "#Calculate the Total Count and Percentage of Players\n",
    "player_gender = purchase_data.groupby('Gender')['SN'].nunique()\n",
    "percentage = player_gender/total_players * 100\n",
    "\n",
    "\n",
    "#Merge the two variables into one Data Frame on 'Gender'\n",
    "gender_demo = pd.merge(player_gender, percentage, on=\"Gender\")\n",
    "\n",
    "\n",
    "#Clean up the data formatting by renaming the columns\n",
    "gender_demo = gender_demo.rename(columns={'SN_x':'Total Count', 'SN_y':'Percentage of Players'})\n",
    "\n",
    "#Sort the values by ascending\n",
    "gender_demo = gender_demo.sort_values(['Total Count'], ascending=False)\n",
    "\n",
    "#Format the Percentage of Players to inclue the % sign and round two digits after the decimal place\n",
    "gender_final = gender_demo.style.format({'Percentage of Players':\"{:,.2f}%\"})\n",
    "gender_final"
   ]
  },
  {
   "cell_type": "markdown",
   "metadata": {},
   "source": [
    "\n",
    "## Purchasing Analysis (Gender)"
   ]
  },
  {
   "cell_type": "markdown",
   "metadata": {},
   "source": [
    "* Run basic calculations to obtain purchase count, avg. purchase price, avg. purchase total per person etc. by gender\n",
    "\n",
    "\n",
    "\n",
    "\n",
    "* Create a summary data frame to hold the results\n",
    "\n",
    "\n",
    "* Optional: give the displayed data cleaner formatting\n",
    "\n",
    "\n",
    "* Display the summary data frame"
   ]
  },
  {
   "cell_type": "code",
   "execution_count": 7,
   "metadata": {},
   "outputs": [
    {
     "data": {
      "text/html": [
       "<style  type=\"text/css\" >\n",
       "</style><table id=\"T_80957d79_14c2_11eb_8da6_34cff602a07f\" ><thead>    <tr>        <th class=\"blank level0\" ></th>        <th class=\"col_heading level0 col0\" >Purchase Count</th>        <th class=\"col_heading level0 col1\" >Average Purchase Price</th>        <th class=\"col_heading level0 col2\" >Total Purchase Value</th>        <th class=\"col_heading level0 col3\" >Avg Total Purchase per Person</th>    </tr>    <tr>        <th class=\"index_name level0\" >Gender</th>        <th class=\"blank\" ></th>        <th class=\"blank\" ></th>        <th class=\"blank\" ></th>        <th class=\"blank\" ></th>    </tr></thead><tbody>\n",
       "                <tr>\n",
       "                        <th id=\"T_80957d79_14c2_11eb_8da6_34cff602a07flevel0_row0\" class=\"row_heading level0 row0\" >Male</th>\n",
       "                        <td id=\"T_80957d79_14c2_11eb_8da6_34cff602a07frow0_col0\" class=\"data row0 col0\" >652</td>\n",
       "                        <td id=\"T_80957d79_14c2_11eb_8da6_34cff602a07frow0_col1\" class=\"data row0 col1\" >$3.02</td>\n",
       "                        <td id=\"T_80957d79_14c2_11eb_8da6_34cff602a07frow0_col2\" class=\"data row0 col2\" >$1,967.64</td>\n",
       "                        <td id=\"T_80957d79_14c2_11eb_8da6_34cff602a07frow0_col3\" class=\"data row0 col3\" >$4.07</td>\n",
       "            </tr>\n",
       "            <tr>\n",
       "                        <th id=\"T_80957d79_14c2_11eb_8da6_34cff602a07flevel0_row1\" class=\"row_heading level0 row1\" >Female</th>\n",
       "                        <td id=\"T_80957d79_14c2_11eb_8da6_34cff602a07frow1_col0\" class=\"data row1 col0\" >113</td>\n",
       "                        <td id=\"T_80957d79_14c2_11eb_8da6_34cff602a07frow1_col1\" class=\"data row1 col1\" >$3.20</td>\n",
       "                        <td id=\"T_80957d79_14c2_11eb_8da6_34cff602a07frow1_col2\" class=\"data row1 col2\" >$361.94</td>\n",
       "                        <td id=\"T_80957d79_14c2_11eb_8da6_34cff602a07frow1_col3\" class=\"data row1 col3\" >$4.47</td>\n",
       "            </tr>\n",
       "            <tr>\n",
       "                        <th id=\"T_80957d79_14c2_11eb_8da6_34cff602a07flevel0_row2\" class=\"row_heading level0 row2\" >Other / Non-Disclosed</th>\n",
       "                        <td id=\"T_80957d79_14c2_11eb_8da6_34cff602a07frow2_col0\" class=\"data row2 col0\" >15</td>\n",
       "                        <td id=\"T_80957d79_14c2_11eb_8da6_34cff602a07frow2_col1\" class=\"data row2 col1\" >$3.35</td>\n",
       "                        <td id=\"T_80957d79_14c2_11eb_8da6_34cff602a07frow2_col2\" class=\"data row2 col2\" >$50.19</td>\n",
       "                        <td id=\"T_80957d79_14c2_11eb_8da6_34cff602a07frow2_col3\" class=\"data row2 col3\" >$4.56</td>\n",
       "            </tr>\n",
       "    </tbody></table>"
      ],
      "text/plain": [
       "<pandas.io.formats.style.Styler at 0x1b2d59af160>"
      ]
     },
     "execution_count": 7,
     "metadata": {},
     "output_type": "execute_result"
    }
   ],
   "source": [
    "#Calculate the purchase count by Gender \n",
    "purchase_count = purchase_data.groupby('Gender')['Purchase ID'].count()\n",
    "\n",
    "#Find the mean of the total price by Gender\n",
    "avg_pur_price = purchase_data.groupby('Gender')['Price'].mean()\n",
    "\n",
    "#Sum the purchase prices by Gender\n",
    "total_pur_value = purchase_data.groupby('Gender')['Price'].sum()\n",
    "\n",
    "#Divide the 'Total Purchase Value' by count of players by Gender\n",
    "avg_pur_total = total_pur_value / player_gender\n",
    "\n",
    "#Create initial summary data frame to store variables\n",
    "purchase_summ = pd.DataFrame({'Purchase Count' : purchase_count,\n",
    "                           'Average Purchase Price' : avg_pur_price,\n",
    "                           'Total Purchase Value' : total_pur_value,\n",
    "                           'Avg Total Purchase per Person' : avg_pur_total})\n",
    "\n",
    "# Set 'Gender' as the index\n",
    "purchase_summ.index.name = \"Gender\"\n",
    "\n",
    "#Sort the values of 'Purchase Count' in ascending order\n",
    "purchase_summ = purchase_summ.sort_values(['Purchase Count'], ascending=False)\n",
    "\n",
    "#Clean up the data formatting by adding '$' to show currency and round to two digits after the decimal\n",
    "purchase_summ_final = purchase_summ.style.format({'Average Purchase Price' : '${:,.2f}',\n",
    "                                                'Total Purchase Value' : '${:,.2f}', \n",
    "                                                'Avg Total Purchase per Person' : '${:,.2f}'})\n",
    "\n",
    "#Final analysis\n",
    "purchase_summ_final"
   ]
  },
  {
   "cell_type": "markdown",
   "metadata": {},
   "source": [
    "## Age Demographics"
   ]
  },
  {
   "cell_type": "markdown",
   "metadata": {},
   "source": [
    "* Establish bins for ages\n",
    "\n",
    "\n",
    "* Categorize the existing players using the age bins. Hint: use pd.cut()\n",
    "\n",
    "\n",
    "* Calculate the numbers and percentages by age group\n",
    "\n",
    "\n",
    "* Create a summary data frame to hold the results\n",
    "\n",
    "\n",
    "* Optional: round the percentage column to two decimal points\n",
    "\n",
    "\n",
    "* Display Age Demographics Table\n"
   ]
  },
  {
   "cell_type": "code",
   "execution_count": 11,
   "metadata": {},
   "outputs": [
    {
     "data": {
      "text/html": [
       "<style  type=\"text/css\" >\n",
       "</style><table id=\"T_fab1cb1d_14c2_11eb_97ae_34cff602a07f\" ><thead>    <tr>        <th class=\"blank level0\" ></th>        <th class=\"col_heading level0 col0\" >Total Count</th>        <th class=\"col_heading level0 col1\" >Percentage of Players</th>    </tr>    <tr>        <th class=\"index_name level0\" >Age Group</th>        <th class=\"blank\" ></th>        <th class=\"blank\" ></th>    </tr></thead><tbody>\n",
       "                <tr>\n",
       "                        <th id=\"T_fab1cb1d_14c2_11eb_97ae_34cff602a07flevel0_row0\" class=\"row_heading level0 row0\" ><10</th>\n",
       "                        <td id=\"T_fab1cb1d_14c2_11eb_97ae_34cff602a07frow0_col0\" class=\"data row0 col0\" >17</td>\n",
       "                        <td id=\"T_fab1cb1d_14c2_11eb_97ae_34cff602a07frow0_col1\" class=\"data row0 col1\" >2.95%</td>\n",
       "            </tr>\n",
       "            <tr>\n",
       "                        <th id=\"T_fab1cb1d_14c2_11eb_97ae_34cff602a07flevel0_row1\" class=\"row_heading level0 row1\" >10-14</th>\n",
       "                        <td id=\"T_fab1cb1d_14c2_11eb_97ae_34cff602a07frow1_col0\" class=\"data row1 col0\" >22</td>\n",
       "                        <td id=\"T_fab1cb1d_14c2_11eb_97ae_34cff602a07frow1_col1\" class=\"data row1 col1\" >3.82%</td>\n",
       "            </tr>\n",
       "            <tr>\n",
       "                        <th id=\"T_fab1cb1d_14c2_11eb_97ae_34cff602a07flevel0_row2\" class=\"row_heading level0 row2\" >15-19</th>\n",
       "                        <td id=\"T_fab1cb1d_14c2_11eb_97ae_34cff602a07frow2_col0\" class=\"data row2 col0\" >107</td>\n",
       "                        <td id=\"T_fab1cb1d_14c2_11eb_97ae_34cff602a07frow2_col1\" class=\"data row2 col1\" >18.58%</td>\n",
       "            </tr>\n",
       "            <tr>\n",
       "                        <th id=\"T_fab1cb1d_14c2_11eb_97ae_34cff602a07flevel0_row3\" class=\"row_heading level0 row3\" >20-24</th>\n",
       "                        <td id=\"T_fab1cb1d_14c2_11eb_97ae_34cff602a07frow3_col0\" class=\"data row3 col0\" >258</td>\n",
       "                        <td id=\"T_fab1cb1d_14c2_11eb_97ae_34cff602a07frow3_col1\" class=\"data row3 col1\" >44.79%</td>\n",
       "            </tr>\n",
       "            <tr>\n",
       "                        <th id=\"T_fab1cb1d_14c2_11eb_97ae_34cff602a07flevel0_row4\" class=\"row_heading level0 row4\" >25-29</th>\n",
       "                        <td id=\"T_fab1cb1d_14c2_11eb_97ae_34cff602a07frow4_col0\" class=\"data row4 col0\" >77</td>\n",
       "                        <td id=\"T_fab1cb1d_14c2_11eb_97ae_34cff602a07frow4_col1\" class=\"data row4 col1\" >13.37%</td>\n",
       "            </tr>\n",
       "            <tr>\n",
       "                        <th id=\"T_fab1cb1d_14c2_11eb_97ae_34cff602a07flevel0_row5\" class=\"row_heading level0 row5\" >30-34</th>\n",
       "                        <td id=\"T_fab1cb1d_14c2_11eb_97ae_34cff602a07frow5_col0\" class=\"data row5 col0\" >52</td>\n",
       "                        <td id=\"T_fab1cb1d_14c2_11eb_97ae_34cff602a07frow5_col1\" class=\"data row5 col1\" >9.03%</td>\n",
       "            </tr>\n",
       "            <tr>\n",
       "                        <th id=\"T_fab1cb1d_14c2_11eb_97ae_34cff602a07flevel0_row6\" class=\"row_heading level0 row6\" >35-39</th>\n",
       "                        <td id=\"T_fab1cb1d_14c2_11eb_97ae_34cff602a07frow6_col0\" class=\"data row6 col0\" >31</td>\n",
       "                        <td id=\"T_fab1cb1d_14c2_11eb_97ae_34cff602a07frow6_col1\" class=\"data row6 col1\" >5.38%</td>\n",
       "            </tr>\n",
       "            <tr>\n",
       "                        <th id=\"T_fab1cb1d_14c2_11eb_97ae_34cff602a07flevel0_row7\" class=\"row_heading level0 row7\" >40+</th>\n",
       "                        <td id=\"T_fab1cb1d_14c2_11eb_97ae_34cff602a07frow7_col0\" class=\"data row7 col0\" >12</td>\n",
       "                        <td id=\"T_fab1cb1d_14c2_11eb_97ae_34cff602a07frow7_col1\" class=\"data row7 col1\" >2.08%</td>\n",
       "            </tr>\n",
       "    </tbody></table>"
      ],
      "text/plain": [
       "<pandas.io.formats.style.Styler at 0x1b2d6a42f40>"
      ]
     },
     "execution_count": 11,
     "metadata": {},
     "output_type": "execute_result"
    }
   ],
   "source": [
    "#Found age min, max, and count\n",
    "#purchase_data['Age'].describe()\n",
    "\n",
    "#Create bins and group names for the customer age data\n",
    "bins = [0, 9.9, 14.9, 19.9, 24.9, 29.9, 34.9, 39.9, 99]\n",
    "names = ['<10', '10-14', '15-19', '20-24', '25-29', '30-34', '35-39', '40+']\n",
    "\n",
    "\n",
    "purchase_data['Age Group'] = pd.cut(purchase_data['Age'],bins,labels = names)\n",
    "age_data = purchase_data.groupby('Age Group')\n",
    "\n",
    "#Find count of players within each age group\n",
    "age_group = age_data['SN'].nunique()\n",
    "\n",
    "#Find percentage of each age group by dividing the count by total players\n",
    "age_percent = age_group / total_players * 100\n",
    "\n",
    "\n",
    "#Create the summary data frame\n",
    "age_summary = pd.DataFrame({'Total Count' : age_group,\n",
    "                           'Percentage of Players' : age_percent})\n",
    "\n",
    "#Format the data frame to show percentage and contain two decimal points\n",
    "age_final = age_summary.style.format({'Percentage of Players' : '{:,.2f}%'})\n",
    "\n",
    "#Final summary\n",
    "age_final\n",
    "\n"
   ]
  },
  {
   "cell_type": "markdown",
   "metadata": {},
   "source": [
    "## Purchasing Analysis (Age)"
   ]
  },
  {
   "cell_type": "markdown",
   "metadata": {},
   "source": [
    "* Bin the purchase_data data frame by age\n",
    "\n",
    "\n",
    "* Run basic calculations to obtain purchase count, avg. purchase price, avg. purchase total per person etc. in the table below\n",
    "\n",
    "\n",
    "* Create a summary data frame to hold the results\n",
    "\n",
    "\n",
    "* Optional: give the displayed data cleaner formatting\n",
    "\n",
    "\n",
    "* Display the summary data frame"
   ]
  },
  {
   "cell_type": "code",
   "execution_count": null,
   "metadata": {},
   "outputs": [],
   "source": []
  },
  {
   "cell_type": "markdown",
   "metadata": {},
   "source": [
    "## Top Spenders"
   ]
  },
  {
   "cell_type": "markdown",
   "metadata": {},
   "source": [
    "* Run basic calculations to obtain the results in the table below\n",
    "\n",
    "\n",
    "* Create a summary data frame to hold the results\n",
    "\n",
    "\n",
    "* Sort the total purchase value column in descending order\n",
    "\n",
    "\n",
    "* Optional: give the displayed data cleaner formatting\n",
    "\n",
    "\n",
    "* Display a preview of the summary data frame\n",
    "\n"
   ]
  },
  {
   "cell_type": "code",
   "execution_count": null,
   "metadata": {},
   "outputs": [],
   "source": []
  },
  {
   "cell_type": "markdown",
   "metadata": {},
   "source": [
    "## Most Popular Items"
   ]
  },
  {
   "cell_type": "markdown",
   "metadata": {},
   "source": [
    "* Retrieve the Item ID, Item Name, and Item Price columns\n",
    "\n",
    "\n",
    "* Group by Item ID and Item Name. Perform calculations to obtain purchase count, average item price, and total purchase value\n",
    "\n",
    "\n",
    "* Create a summary data frame to hold the results\n",
    "\n",
    "\n",
    "* Sort the purchase count column in descending order\n",
    "\n",
    "\n",
    "* Optional: give the displayed data cleaner formatting\n",
    "\n",
    "\n",
    "* Display a preview of the summary data frame\n",
    "\n"
   ]
  },
  {
   "cell_type": "code",
   "execution_count": null,
   "metadata": {},
   "outputs": [],
   "source": []
  },
  {
   "cell_type": "markdown",
   "metadata": {},
   "source": [
    "## Most Profitable Items"
   ]
  },
  {
   "cell_type": "markdown",
   "metadata": {},
   "source": [
    "* Sort the above table by total purchase value in descending order\n",
    "\n",
    "\n",
    "* Optional: give the displayed data cleaner formatting\n",
    "\n",
    "\n",
    "* Display a preview of the data frame\n",
    "\n"
   ]
  },
  {
   "cell_type": "code",
   "execution_count": null,
   "metadata": {
    "scrolled": true
   },
   "outputs": [],
   "source": []
  }
 ],
 "metadata": {
  "anaconda-cloud": {},
  "kernel_info": {
   "name": "python3"
  },
  "kernelspec": {
   "display_name": "Python 3",
   "language": "python",
   "name": "python3"
  },
  "language_info": {
   "codemirror_mode": {
    "name": "ipython",
    "version": 3
   },
   "file_extension": ".py",
   "mimetype": "text/x-python",
   "name": "python",
   "nbconvert_exporter": "python",
   "pygments_lexer": "ipython3",
   "version": "3.8.3"
  },
  "latex_envs": {
   "LaTeX_envs_menu_present": true,
   "autoclose": false,
   "autocomplete": true,
   "bibliofile": "biblio.bib",
   "cite_by": "apalike",
   "current_citInitial": 1,
   "eqLabelWithNumbers": true,
   "eqNumInitial": 1,
   "hotkeys": {
    "equation": "Ctrl-E",
    "itemize": "Ctrl-I"
   },
   "labels_anchors": false,
   "latex_user_defs": false,
   "report_style_numbering": false,
   "user_envs_cfg": false
  },
  "nteract": {
   "version": "0.2.0"
  }
 },
 "nbformat": 4,
 "nbformat_minor": 2
}

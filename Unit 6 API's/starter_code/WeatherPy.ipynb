{
 "cells": [
  {
   "cell_type": "markdown",
   "metadata": {},
   "source": [
    "# WeatherPy\n",
    "----\n",
    "\n",
    "### Analysis\n",
    "* As expected, the weather becomes significantly warmer as one approaches the equator (0 Deg. Latitude). More interestingly, however, is the fact that the southern hemisphere tends to be warmer this time of year than the northern hemisphere. This may be due to the tilt of the earth.\n",
    "* There is no strong relationship between latitude and cloudiness. However, it is interesting to see that a strong band of cities sits at 0, 80, and 100% cloudiness.\n",
    "* There is no strong relationship between latitude and wind speed. However, in northern hemispheres there is a flurry of cities with over 20 mph of wind.\n",
    "\n",
    "---\n",
    "\n",
    "#### Note\n",
    "* Instructions have been included for each segment. You do not have to follow them exactly, but they are included to help you think through the steps."
   ]
  },
  {
   "cell_type": "code",
   "execution_count": 30,
   "metadata": {
    "scrolled": true
   },
   "outputs": [],
   "source": [
    "# Dependencies and Setup\n",
    "import matplotlib.pyplot as plt\n",
    "import pandas as pd\n",
    "import numpy as np\n",
    "import requests\n",
    "import time\n",
    "import pprint as pprint\n",
    "\n",
    "# Import API key\n",
    "import api_keys\n",
    "\n",
    "# Incorporated citipy to determine city based on latitude and longitude\n",
    "from citipy import citipy\n",
    "\n",
    "\n",
    "# Output File (CSV)\n",
    "output_data_file = \"output_data/cities.csv\"\n",
    "\n",
    "# Range of latitudes and longitudes\n",
    "lat_range = (-90, 90)\n",
    "lng_range = (-180, 180)"
   ]
  },
  {
   "cell_type": "markdown",
   "metadata": {},
   "source": [
    "## Generate Cities List"
   ]
  },
  {
   "cell_type": "code",
   "execution_count": 31,
   "metadata": {},
   "outputs": [
    {
     "data": {
      "text/plain": [
       "620"
      ]
     },
     "execution_count": 31,
     "metadata": {},
     "output_type": "execute_result"
    }
   ],
   "source": [
    "# List for holding lat_lngs and cities\n",
    "lat_lngs = []\n",
    "cities = []\n",
    "\n",
    "# Create a set of random lat and lng combinations\n",
    "lats = np.random.uniform(low=-90.000, high=90.000, size=1500)\n",
    "lngs = np.random.uniform(low=-180.000, high=180.000, size=1500)\n",
    "lat_lngs = zip(lats, lngs)\n",
    "\n",
    "# Identify nearest city for each lat, lng combination\n",
    "for lat_lng in lat_lngs:\n",
    "    city = citipy.nearest_city(lat_lng[0], lat_lng[1]).city_name\n",
    "    \n",
    "    # If the city is unique, then add it to a our cities list\n",
    "    if city not in cities:\n",
    "        cities.append(city)\n",
    "\n",
    "# Print the city count to confirm sufficient count\n",
    "\n",
    "(len(cities))"
   ]
  },
  {
   "cell_type": "markdown",
   "metadata": {},
   "source": [
    "### Perform API Calls\n",
    "* Perform a weather check on each city using a series of successive API calls.\n",
    "* Include a print log of each city as it'sbeing processed (with the city number and city name).\n"
   ]
  },
  {
   "cell_type": "code",
   "execution_count": 42,
   "metadata": {},
   "outputs": [
    {
     "data": {
      "text/plain": [
       "{'coord': {'lon': -73.97, 'lat': 42.6},\n",
       " 'weather': [{'id': 500,\n",
       "   'main': 'Rain',\n",
       "   'description': 'light rain',\n",
       "   'icon': '10n'}],\n",
       " 'base': 'stations',\n",
       " 'main': {'temp': 37.38,\n",
       "  'feels_like': 31.03,\n",
       "  'temp_min': 37,\n",
       "  'temp_max': 37.99,\n",
       "  'pressure': 1003,\n",
       "  'humidity': 69},\n",
       " 'visibility': 10000,\n",
       " 'wind': {'speed': 4, 'deg': 185, 'gust': 8.99},\n",
       " 'rain': {'1h': 0.37},\n",
       " 'clouds': {'all': 99},\n",
       " 'dt': 1604374530,\n",
       " 'sys': {'type': 3,\n",
       "  'id': 19530,\n",
       "  'country': 'US',\n",
       "  'sunrise': 1604316687,\n",
       "  'sunset': 1604353640},\n",
       " 'timezone': -18000,\n",
       " 'id': 5106841,\n",
       " 'name': 'Albany',\n",
       " 'cod': 200}"
      ]
     },
     "execution_count": 42,
     "metadata": {},
     "output_type": "execute_result"
    }
   ],
   "source": [
    "base_url = \"http://api.openweathermap.org/data/2.5/weather?units=imperial&appid=\" + api_key\n",
    "\n",
    "\n",
    "#parameters = f\"?q={city_name}&appid={api_key}\"\n",
    "#full_url = url + parameters\n",
    "\n",
    "\n",
    "#response = requests.get(f\"{full_url}\").json\n",
    "#print(base_url)\n",
    "\n",
    "response = requests.get(f\"{base_url}&q={city}\").json() \n",
    "response"
   ]
  },
  {
   "cell_type": "code",
   "execution_count": null,
   "metadata": {
    "scrolled": true
   },
   "outputs": [
    {
     "name": "stdout",
     "output_type": "stream",
     "text": [
      "http://api.openweathermap.org/data/2.5/weather?units=imperial?q=[]&appid=d3334172b24f35a66d024c0caaca3f53&q=chuy\n",
      "http://api.openweathermap.org/data/2.5/weather?units=imperial?q=[]&appid=d3334172b24f35a66d024c0caaca3f53&q=punta arenas\n",
      "http://api.openweathermap.org/data/2.5/weather?units=imperial?q=[]&appid=d3334172b24f35a66d024c0caaca3f53&q=khatanga\n",
      "http://api.openweathermap.org/data/2.5/weather?units=imperial?q=[]&appid=d3334172b24f35a66d024c0caaca3f53&q=port hardy\n",
      "http://api.openweathermap.org/data/2.5/weather?units=imperial?q=[]&appid=d3334172b24f35a66d024c0caaca3f53&q=catamarca\n",
      "http://api.openweathermap.org/data/2.5/weather?units=imperial?q=[]&appid=d3334172b24f35a66d024c0caaca3f53&q=yellowknife\n",
      "http://api.openweathermap.org/data/2.5/weather?units=imperial?q=[]&appid=d3334172b24f35a66d024c0caaca3f53&q=mataura\n",
      "http://api.openweathermap.org/data/2.5/weather?units=imperial?q=[]&appid=d3334172b24f35a66d024c0caaca3f53&q=puri\n",
      "http://api.openweathermap.org/data/2.5/weather?units=imperial?q=[]&appid=d3334172b24f35a66d024c0caaca3f53&q=kutum\n",
      "http://api.openweathermap.org/data/2.5/weather?units=imperial?q=[]&appid=d3334172b24f35a66d024c0caaca3f53&q=chara\n",
      "http://api.openweathermap.org/data/2.5/weather?units=imperial?q=[]&appid=d3334172b24f35a66d024c0caaca3f53&q=busselton\n",
      "http://api.openweathermap.org/data/2.5/weather?units=imperial?q=[]&appid=d3334172b24f35a66d024c0caaca3f53&q=taolanaro\n",
      "http://api.openweathermap.org/data/2.5/weather?units=imperial?q=[]&appid=d3334172b24f35a66d024c0caaca3f53&q=hobart\n",
      "http://api.openweathermap.org/data/2.5/weather?units=imperial?q=[]&appid=d3334172b24f35a66d024c0caaca3f53&q=nhulunbuy\n",
      "http://api.openweathermap.org/data/2.5/weather?units=imperial?q=[]&appid=d3334172b24f35a66d024c0caaca3f53&q=norman wells\n",
      "http://api.openweathermap.org/data/2.5/weather?units=imperial?q=[]&appid=d3334172b24f35a66d024c0caaca3f53&q=rikitea\n",
      "http://api.openweathermap.org/data/2.5/weather?units=imperial?q=[]&appid=d3334172b24f35a66d024c0caaca3f53&q=pevek\n",
      "http://api.openweathermap.org/data/2.5/weather?units=imperial?q=[]&appid=d3334172b24f35a66d024c0caaca3f53&q=provost\n",
      "http://api.openweathermap.org/data/2.5/weather?units=imperial?q=[]&appid=d3334172b24f35a66d024c0caaca3f53&q=guerrero negro\n",
      "http://api.openweathermap.org/data/2.5/weather?units=imperial?q=[]&appid=d3334172b24f35a66d024c0caaca3f53&q=kralendijk\n",
      "http://api.openweathermap.org/data/2.5/weather?units=imperial?q=[]&appid=d3334172b24f35a66d024c0caaca3f53&q=dikson\n",
      "http://api.openweathermap.org/data/2.5/weather?units=imperial?q=[]&appid=d3334172b24f35a66d024c0caaca3f53&q=tuatapere\n",
      "http://api.openweathermap.org/data/2.5/weather?units=imperial?q=[]&appid=d3334172b24f35a66d024c0caaca3f53&q=svetlogorsk\n",
      "http://api.openweathermap.org/data/2.5/weather?units=imperial?q=[]&appid=d3334172b24f35a66d024c0caaca3f53&q=labrea\n",
      "http://api.openweathermap.org/data/2.5/weather?units=imperial?q=[]&appid=d3334172b24f35a66d024c0caaca3f53&q=ponta do sol\n",
      "http://api.openweathermap.org/data/2.5/weather?units=imperial?q=[]&appid=d3334172b24f35a66d024c0caaca3f53&q=mount gambier\n",
      "http://api.openweathermap.org/data/2.5/weather?units=imperial?q=[]&appid=d3334172b24f35a66d024c0caaca3f53&q=kobojango\n",
      "http://api.openweathermap.org/data/2.5/weather?units=imperial?q=[]&appid=d3334172b24f35a66d024c0caaca3f53&q=hami\n",
      "http://api.openweathermap.org/data/2.5/weather?units=imperial?q=[]&appid=d3334172b24f35a66d024c0caaca3f53&q=cooma\n",
      "http://api.openweathermap.org/data/2.5/weather?units=imperial?q=[]&appid=d3334172b24f35a66d024c0caaca3f53&q=berlevag\n",
      "http://api.openweathermap.org/data/2.5/weather?units=imperial?q=[]&appid=d3334172b24f35a66d024c0caaca3f53&q=lasa\n",
      "http://api.openweathermap.org/data/2.5/weather?units=imperial?q=[]&appid=d3334172b24f35a66d024c0caaca3f53&q=naze\n",
      "http://api.openweathermap.org/data/2.5/weather?units=imperial?q=[]&appid=d3334172b24f35a66d024c0caaca3f53&q=burgeo\n",
      "http://api.openweathermap.org/data/2.5/weather?units=imperial?q=[]&appid=d3334172b24f35a66d024c0caaca3f53&q=ronde\n",
      "http://api.openweathermap.org/data/2.5/weather?units=imperial?q=[]&appid=d3334172b24f35a66d024c0caaca3f53&q=venado\n",
      "http://api.openweathermap.org/data/2.5/weather?units=imperial?q=[]&appid=d3334172b24f35a66d024c0caaca3f53&q=biak\n",
      "http://api.openweathermap.org/data/2.5/weather?units=imperial?q=[]&appid=d3334172b24f35a66d024c0caaca3f53&q=antalaha\n",
      "http://api.openweathermap.org/data/2.5/weather?units=imperial?q=[]&appid=d3334172b24f35a66d024c0caaca3f53&q=port elizabeth\n",
      "http://api.openweathermap.org/data/2.5/weather?units=imperial?q=[]&appid=d3334172b24f35a66d024c0caaca3f53&q=batemans bay\n",
      "http://api.openweathermap.org/data/2.5/weather?units=imperial?q=[]&appid=d3334172b24f35a66d024c0caaca3f53&q=maceio\n"
     ]
    }
   ],
   "source": [
    "city_name = []\n",
    "cloudiness = []\n",
    "country = []\n",
    "date = []\n",
    "humidity = []\n",
    "lat = []\n",
    "lng = []\n",
    "max_tamp = []\n",
    "wind_speed = []\n",
    "\n",
    "\n",
    "record = 1\n",
    "\n",
    "# Build query URL\n",
    "\n",
    "for city in cities:\n",
    "    \n",
    "    try:\n",
    "        city_name.append(response['name'])                   \n",
    "        print(f\"{full_url}&q={city}\")\n",
    "\n",
    "        record = record + 1\n",
    "\n",
    "        time.sleep(1.01)\n",
    "    \n",
    "    except:\n",
    "        print('Not found')\n",
    "        \n",
    "    continue\n",
    "    \n",
    "    \n",
    "    break\n",
    "    "
   ]
  },
  {
   "cell_type": "markdown",
   "metadata": {},
   "source": [
    "### Convert Raw Data to DataFrame\n",
    "* Export the city data into a .csv.\n",
    "* Display the DataFrame"
   ]
  },
  {
   "cell_type": "code",
   "execution_count": null,
   "metadata": {},
   "outputs": [],
   "source": []
  },
  {
   "cell_type": "code",
   "execution_count": null,
   "metadata": {},
   "outputs": [],
   "source": []
  },
  {
   "cell_type": "markdown",
   "metadata": {},
   "source": [
    "### Plotting the Data\n",
    "* Use proper labeling of the plots using plot titles (including date of analysis) and axes labels.\n",
    "* Save the plotted figures as .pngs."
   ]
  },
  {
   "cell_type": "markdown",
   "metadata": {},
   "source": [
    "#### Latitude vs. Temperature Plot"
   ]
  },
  {
   "cell_type": "code",
   "execution_count": null,
   "metadata": {},
   "outputs": [],
   "source": []
  },
  {
   "cell_type": "markdown",
   "metadata": {},
   "source": [
    "#### Latitude vs. Humidity Plot"
   ]
  },
  {
   "cell_type": "code",
   "execution_count": null,
   "metadata": {},
   "outputs": [],
   "source": []
  },
  {
   "cell_type": "markdown",
   "metadata": {},
   "source": [
    "#### Latitude vs. Cloudiness Plot"
   ]
  },
  {
   "cell_type": "code",
   "execution_count": null,
   "metadata": {},
   "outputs": [],
   "source": []
  },
  {
   "cell_type": "markdown",
   "metadata": {},
   "source": [
    "#### Latitude vs. Wind Speed Plot"
   ]
  },
  {
   "cell_type": "code",
   "execution_count": null,
   "metadata": {},
   "outputs": [],
   "source": []
  },
  {
   "cell_type": "code",
   "execution_count": null,
   "metadata": {},
   "outputs": [],
   "source": []
  }
 ],
 "metadata": {
  "anaconda-cloud": {},
  "kernelspec": {
   "display_name": "Python 3",
   "language": "python",
   "name": "python3"
  },
  "language_info": {
   "codemirror_mode": {
    "name": "ipython",
    "version": 3
   },
   "file_extension": ".py",
   "mimetype": "text/x-python",
   "name": "python",
   "nbconvert_exporter": "python",
   "pygments_lexer": "ipython3",
   "version": "3.8.3"
  }
 },
 "nbformat": 4,
 "nbformat_minor": 2
}
